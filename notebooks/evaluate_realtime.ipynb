{
 "cells": [
  {
   "cell_type": "code",
   "execution_count": 2,
   "metadata": {
    "collapsed": true
   },
   "outputs": [],
   "source": [
    "import sys\n",
    "import time\n",
    "\n",
    "import cv2\n",
    "from IPython.display import display, Image\n",
    "%matplotlib inline"
   ]
  },
  {
   "cell_type": "code",
   "execution_count": 3,
   "outputs": [],
   "source": [
    "sys.path.append(\"../facenetLib\")  # go to parent dir\n",
    "import contributed.face as face"
   ],
   "metadata": {
    "collapsed": false,
    "pycharm": {
     "name": "#%%\n"
    }
   }
  },
  {
   "cell_type": "code",
   "execution_count": null,
   "outputs": [],
   "source": [
    "class DetectorFace(object):\n",
    "    model = '../models/20180402-114759.pb'\n",
    "    save_point = '../models/one_shot_classifier.pkl'\n",
    "    color =  (0, 255, 0)\n",
    "    text_color=(255, 0, 0)\n",
    "    rect_size = 2\n",
    "\n",
    "    def __init__(self):\n",
    "        self.image = None\n",
    "        self.face_recognition = face.Recognition(DetectorFace.model,DetectorFace.save_point)\n",
    "\n",
    "    def predict(self, frame):\n",
    "        faces = self.face_recognition.identify(frame)\n",
    "\n",
    "        if faces:\n",
    "            for img in faces:\n",
    "                face_bb = img.bounding_box.astype(int)\n",
    "                pt1 = (face_bb[0], face_bb[1])\n",
    "                pt2 = (face_bb[2], face_bb[3])\n",
    "                cv2.rectangle(frame,pt1,pt2,DetectorFace.color, DetectorFace.rect_size)\n",
    "                if img.name is not None:\n",
    "                    print(img.embedding)\n",
    "                    cv2.putText(frame,\n",
    "                                img.name,\n",
    "                                pt2,\n",
    "                                cv2.FONT_HERSHEY_SIMPLEX,\n",
    "                                1,\n",
    "                                DetectorFace.text_color,\n",
    "                                thickness=2,\n",
    "                                lineType=2)\n",
    "\n",
    "        return frame"
   ],
   "metadata": {
    "collapsed": false,
    "pycharm": {
     "name": "#%%\n",
     "is_executing": true
    }
   }
  },
  {
   "cell_type": "code",
   "execution_count": null,
   "outputs": [],
   "source": [
    "detecter = DetectorFace()\n",
    "\n",
    "video_path = '../data/wisenet_dataset/video/set_1/video1_5.avi'\n",
    "\n",
    "video = cv2.VideoCapture(video_path)\n",
    "display_handle = display(None, display_id=True)\n",
    "frame_rate = 5\n",
    "prev = 0\n",
    "text_box = (0, 25)\n",
    "text_color = (255, 0, 0)\n",
    "font_scale = 1\n",
    "\n",
    "try:\n",
    "    while video.isOpened():\n",
    "        time_elapsed = time.time() - prev\n",
    "        ret, frame = video.read()\n",
    "        if time_elapsed > 1./frame_rate:\n",
    "            prev = time.time()\n",
    "            if ret:\n",
    "                begin_time = time.time()\n",
    "                frame = detecter.predict(frame)\n",
    "                end_time = time.time()\n",
    "                cv2.putText(frame,\n",
    "                            \"Mean of time detector: {:.2f}\".format(end_time-begin_time),\n",
    "                            text_box,\n",
    "                            cv2.FONT_HERSHEY_SIMPLEX,\n",
    "                            font_scale,\n",
    "                            text_color,\n",
    "                            thickness=2,\n",
    "                            lineType=2)\n",
    "                cv2.imshow('detector',frame)\n",
    "            else:\n",
    "                break\n",
    "        if cv2.waitKey(20) == ord('q'):\n",
    "          break\n",
    "\n",
    "except KeyboardInterrupt:\n",
    "    pass\n",
    "except Exception as ex:\n",
    "    print(ex)\n",
    "finally:\n",
    "    video.release()\n",
    "    cv2.destroyAllWindows()\n",
    "\n"
   ],
   "metadata": {
    "collapsed": false,
    "pycharm": {
     "name": "#%%\n",
     "is_executing": true
    }
   }
  }
 ],
 "metadata": {
  "kernelspec": {
   "display_name": "Python 3",
   "language": "python",
   "name": "python3"
  },
  "language_info": {
   "codemirror_mode": {
    "name": "ipython",
    "version": 2
   },
   "file_extension": ".py",
   "mimetype": "text/x-python",
   "name": "python",
   "nbconvert_exporter": "python",
   "pygments_lexer": "ipython2",
   "version": "2.7.6"
  }
 },
 "nbformat": 4,
 "nbformat_minor": 0
}