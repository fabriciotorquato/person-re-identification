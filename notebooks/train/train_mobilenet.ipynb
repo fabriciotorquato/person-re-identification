{
  "cells": [
    {
      "cell_type": "code",
      "execution_count": 1,
      "metadata": {},
      "outputs": [],
      "source": [
        "import os\n",
        "os.environ['TF_CPP_MIN_LOG_LEVEL'] = '3' "
      ]
    },
    {
      "cell_type": "code",
      "execution_count": 2,
      "metadata": {},
      "outputs": [],
      "source": [
        "import sys\n",
        "sys.path.append('../../src')"
      ]
    },
    {
      "cell_type": "code",
      "execution_count": 3,
      "metadata": {
        "id": "z_7b-dEeuV9O"
      },
      "outputs": [],
      "source": [
        "import tensorflow as tf\n",
        "import matplotlib.pyplot as plt\n",
        "from nets.detector_MTCNN import DetectorMTCNN\n",
        "from nets import cnn_recognition\n",
        "import shutil\n",
        "import random\n",
        "from tqdm import tqdm\n",
        "import time"
      ]
    },
    {
      "cell_type": "code",
      "execution_count": 28,
      "metadata": {
        "id": "AsaJMoTwxHIX"
      },
      "outputs": [],
      "source": [
        "img_width, img_height = 224, 224\n",
        "\n",
        "database = '../../data/wisenet_dataset/database_frames'\n",
        "dataset = '../../data/wisenet_dataset/dataset_mobilenet'\n",
        "train_dataset = '../../data/wisenet_dataset/train_dataset_mobilenet'\n",
        "\n",
        "labels_class_file = '../../models/labels.txt'\n",
        "saved_model_dir = '../../models/mobilenet'\n",
        "\n",
        "train_data = os.path.join(train_dataset, 'train')\n",
        "validation_data = os.path.join(train_dataset, 'test')\n",
        "\n",
        "batch_size = 32\n",
        "initial_epochs = 22\n",
        "test_size=.3"
      ]
    },
    {
      "cell_type": "code",
      "execution_count": 5,
      "metadata": {},
      "outputs": [],
      "source": [
        "if os.path.exists(dataset):\n",
        "    shutil.rmtree(dataset)\n",
        "\n",
        "if os.path.exists(train_dataset):\n",
        "    shutil.rmtree(train_dataset)"
      ]
    },
    {
      "cell_type": "code",
      "execution_count": 6,
      "metadata": {},
      "outputs": [],
      "source": [
        "detector_MTCNN = DetectorMTCNN(img_width, img_height)"
      ]
    },
    {
      "cell_type": "code",
      "execution_count": 7,
      "metadata": {},
      "outputs": [
        {
          "name": "stderr",
          "output_type": "stream",
          "text": [
            "  0%|          | 0/605 [00:00<?, ?it/s]"
          ]
        },
        {
          "name": "stdout",
          "output_type": "stream",
          "text": [
            "WARNING:tensorflow:5 out of the last 9 calls to <function Model.make_predict_function.<locals>.predict_function at 0x7fdd95194d08> triggered tf.function retracing. Tracing is expensive and the excessive number of tracings could be due to (1) creating @tf.function repeatedly in a loop, (2) passing tensors with different shapes, (3) passing Python objects instead of tensors. For (1), please define your @tf.function outside of the loop. For (2), @tf.function has experimental_relax_shapes=True option that relaxes argument shapes that can avoid unnecessary retracing. For (3), please refer to https://www.tensorflow.org/guide/function#controlling_retracing and https://www.tensorflow.org/api_docs/python/tf/function for  more details.\n"
          ]
        },
        {
          "name": "stderr",
          "output_type": "stream",
          "text": [
            "100%|██████████| 605/605 [03:22<00:00,  2.99it/s]\n"
          ]
        }
      ],
      "source": [
        "detector_MTCNN.crop_align(database, dataset)"
      ]
    },
    {
      "cell_type": "code",
      "execution_count": 8,
      "metadata": {},
      "outputs": [
        {
          "name": "stderr",
          "output_type": "stream",
          "text": [
            "7it [00:00, 86.19it/s]\n"
          ]
        }
      ],
      "source": [
        "os.makedirs(train_dataset)\n",
        "\n",
        "ref = 1\n",
        "\n",
        "for root, dirs, files in tqdm(os.walk(dataset)):\n",
        "    if len(dirs) > 1:\n",
        "        for person in dirs:\n",
        "            root = '{}/{}/'.format(dataset, person )\n",
        "\n",
        "            output_train_dir = '{}/{}'.format(train_data, person)\n",
        "            if not os.path.exists(os.path.join(output_train_dir)):\n",
        "                os.makedirs(output_train_dir)\n",
        "\n",
        "            output_test_dir = '{}/{}'.format(validation_data, person)\n",
        "            if not os.path.exists(output_test_dir):\n",
        "                os.makedirs(output_test_dir)\n",
        "\n",
        "            files = os.listdir(root)\n",
        "            test = random.sample(files, int(len(files) * test_size))\n",
        "            train = list(set(files) - set(test))\n",
        "            for copy_test in test:\n",
        "                shutil.copy(os.path.join(root, copy_test),os.path.join(output_test_dir, copy_test))\n",
        "\n",
        "            for copy_train in train:\n",
        "                shutil.copy(os.path.join(root, copy_train), os.path.join(output_train_dir, copy_train))"
      ]
    },
    {
      "cell_type": "code",
      "execution_count": 21,
      "metadata": {},
      "outputs": [
        {
          "name": "stdout",
          "output_type": "stream",
          "text": [
            "Found 394 images belonging to 6 classes.\n",
            "Found 164 images belonging to 6 classes.\n"
          ]
        }
      ],
      "source": [
        "train_datagen = tf.keras.preprocessing.image.ImageDataGenerator(\n",
        "    rescale=1. / 255,\n",
        "    rotation_range=10,\n",
        "    zoom_range=0.1,  \n",
        "    width_shift_range=0.1,\n",
        "    height_shift_range=0.1,\n",
        "    vertical_flip=False,\n",
        "    horizontal_flip=True)\n",
        "\n",
        "\n",
        "test_datagen = tf.keras.preprocessing.image.ImageDataGenerator(rescale=1. / 255)\n",
        "\n",
        "train_generator = train_datagen.flow_from_directory(\n",
        "    train_data,\n",
        "    target_size=(img_width, img_height),\n",
        "    batch_size=batch_size,\n",
        "    class_mode='categorical')\n",
        "\n",
        "validation_generator = test_datagen.flow_from_directory(\n",
        "    validation_data,\n",
        "    target_size=(img_width, img_height),\n",
        "    batch_size=batch_size,\n",
        "    class_mode='categorical')\n"
      ]
    },
    {
      "cell_type": "code",
      "execution_count": 10,
      "metadata": {},
      "outputs": [
        {
          "name": "stdout",
          "output_type": "stream",
          "text": [
            "{'ID1': 0, 'ID12': 1, 'ID15': 2, 'ID16': 3, 'ID3': 4, 'UNK': 5}\n"
          ]
        }
      ],
      "source": [
        "for image_batch, label_batch in train_generator:\n",
        "    break\n",
        "\n",
        "print(train_generator.class_indices)\n",
        "\n",
        "labels = '\\n'.join(sorted(train_generator.class_indices.keys()))\n",
        "\n",
        "with open(labels_class_file, 'w') as f:\n",
        "    f.write(labels)"
      ]
    },
    {
      "cell_type": "code",
      "execution_count": 22,
      "metadata": {},
      "outputs": [],
      "source": [
        "cnn_recognition_net = cnn_recognition.Net(output_class=len(train_generator.class_indices))"
      ]
    },
    {
      "cell_type": "code",
      "execution_count": 23,
      "metadata": {},
      "outputs": [
        {
          "name": "stdout",
          "output_type": "stream",
          "text": [
            "Model: \"sequential_1\"\n",
            "_________________________________________________________________\n",
            "Layer (type)                 Output Shape              Param #   \n",
            "=================================================================\n",
            "mobilenetv2_1.00_224 (Functi (None, 7, 7, 1280)        2257984   \n",
            "_________________________________________________________________\n",
            "conv2d_13 (Conv2D)           (None, 5, 5, 32)          368672    \n",
            "_________________________________________________________________\n",
            "dropout_1 (Dropout)          (None, 5, 5, 32)          0         \n",
            "_________________________________________________________________\n",
            "global_average_pooling2d_1 ( (None, 32)                0         \n",
            "_________________________________________________________________\n",
            "dense_8 (Dense)              (None, 6)                 198       \n",
            "=================================================================\n",
            "Total params: 2,626,854\n",
            "Trainable params: 368,870\n",
            "Non-trainable params: 2,257,984\n",
            "_________________________________________________________________\n"
          ]
        }
      ],
      "source": [
        "cnn_recognition_net.model.compile(optimizer=tf.keras.optimizers.Adam(), loss='categorical_crossentropy', metrics=['accuracy']) \n",
        "cnn_recognition_net.model.summary()"
      ]
    },
    {
      "cell_type": "code",
      "execution_count": 24,
      "metadata": {
        "colab": {
          "base_uri": "https://localhost:8080/"
        },
        "id": "KgJN3epFuQXc",
        "outputId": "27fa2cb2-b9ca-425e-950e-1a1b41e5064d"
      },
      "outputs": [
        {
          "name": "stdout",
          "output_type": "stream",
          "text": [
            "Number of trainable variables = 4\n"
          ]
        }
      ],
      "source": [
        "print('Number of trainable variables = {}'.format(len(cnn_recognition_net.model.trainable_variables)))"
      ]
    },
    {
      "cell_type": "code",
      "execution_count": 25,
      "metadata": {
        "colab": {
          "base_uri": "https://localhost:8080/",
          "height": 476
        },
        "id": "OC2PCYEtuQXd",
        "outputId": "aec94a98-271d-4517-b604-2701140e85ed"
      },
      "outputs": [
        {
          "name": "stdout",
          "output_type": "stream",
          "text": [
            "Epoch 1/22\n",
            "13/13 [==============================] - 15s 949ms/step - loss: 3.3393 - accuracy: 0.3426 - val_loss: 1.5613 - val_accuracy: 0.3293\n",
            "Epoch 2/22\n",
            "13/13 [==============================] - 19s 2s/step - loss: 1.3565 - accuracy: 0.4797 - val_loss: 1.4126 - val_accuracy: 0.5610\n",
            "Epoch 3/22\n",
            "13/13 [==============================] - 19s 1s/step - loss: 1.1802 - accuracy: 0.5787 - val_loss: 1.2634 - val_accuracy: 0.6098\n",
            "Epoch 4/22\n",
            "13/13 [==============================] - 24s 2s/step - loss: 1.0016 - accuracy: 0.6421 - val_loss: 1.1710 - val_accuracy: 0.6098\n",
            "Epoch 5/22\n",
            "13/13 [==============================] - 19s 2s/step - loss: 0.9360 - accuracy: 0.6497 - val_loss: 1.0585 - val_accuracy: 0.6524\n",
            "Epoch 6/22\n",
            "13/13 [==============================] - 19s 1s/step - loss: 0.8687 - accuracy: 0.6878 - val_loss: 0.9316 - val_accuracy: 0.6768\n",
            "Epoch 7/22\n",
            "13/13 [==============================] - 19s 1s/step - loss: 0.8828 - accuracy: 0.7005 - val_loss: 0.8950 - val_accuracy: 0.7500\n",
            "Epoch 8/22\n",
            "13/13 [==============================] - 19s 1s/step - loss: 0.7543 - accuracy: 0.7310 - val_loss: 0.9166 - val_accuracy: 0.6524\n",
            "Epoch 9/22\n",
            "13/13 [==============================] - 19s 1s/step - loss: 0.7512 - accuracy: 0.7259 - val_loss: 0.9821 - val_accuracy: 0.6037\n",
            "Epoch 10/22\n",
            "13/13 [==============================] - 18s 1s/step - loss: 0.7097 - accuracy: 0.7462 - val_loss: 0.8148 - val_accuracy: 0.7317\n",
            "Epoch 11/22\n",
            "13/13 [==============================] - 18s 1s/step - loss: 0.6412 - accuracy: 0.7919 - val_loss: 0.8248 - val_accuracy: 0.7012\n",
            "Epoch 12/22\n",
            "13/13 [==============================] - 19s 1s/step - loss: 0.5666 - accuracy: 0.8274 - val_loss: 0.8519 - val_accuracy: 0.6951\n",
            "Epoch 13/22\n",
            "13/13 [==============================] - 17s 1s/step - loss: 0.5080 - accuracy: 0.8350 - val_loss: 0.7768 - val_accuracy: 0.7622\n",
            "Epoch 14/22\n",
            "13/13 [==============================] - 10s 754ms/step - loss: 0.5043 - accuracy: 0.8376 - val_loss: 0.7422 - val_accuracy: 0.7622\n",
            "Epoch 15/22\n",
            "13/13 [==============================] - 10s 754ms/step - loss: 0.4367 - accuracy: 0.8503 - val_loss: 0.6739 - val_accuracy: 0.7927\n",
            "Epoch 16/22\n",
            "13/13 [==============================] - 10s 750ms/step - loss: 0.4269 - accuracy: 0.8756 - val_loss: 0.7234 - val_accuracy: 0.7622\n",
            "Epoch 17/22\n",
            "13/13 [==============================] - 12s 950ms/step - loss: 0.4004 - accuracy: 0.8756 - val_loss: 0.7359 - val_accuracy: 0.7622\n",
            "Epoch 18/22\n",
            "13/13 [==============================] - 10s 751ms/step - loss: 0.3863 - accuracy: 0.8756 - val_loss: 0.8376 - val_accuracy: 0.7195\n",
            "Epoch 19/22\n",
            "13/13 [==============================] - 10s 756ms/step - loss: 0.4358 - accuracy: 0.8579 - val_loss: 0.7216 - val_accuracy: 0.7561\n",
            "Epoch 20/22\n",
            "13/13 [==============================] - 10s 748ms/step - loss: 0.4004 - accuracy: 0.8680 - val_loss: 0.6602 - val_accuracy: 0.7561\n",
            "Epoch 21/22\n",
            "13/13 [==============================] - 10s 777ms/step - loss: 0.4053 - accuracy: 0.8604 - val_loss: 0.6944 - val_accuracy: 0.7378\n",
            "Epoch 22/22\n",
            "13/13 [==============================] - 10s 744ms/step - loss: 0.3387 - accuracy: 0.8959 - val_loss: 0.5460 - val_accuracy: 0.8232\n",
            "Time to training: 342 s\n"
          ]
        }
      ],
      "source": [
        "begin = time.time()\n",
        "history = cnn_recognition_net.model.fit(train_generator, epochs=initial_epochs,validation_data=validation_generator)\n",
        "end = time.time()\n",
        "print(\"Time to training: {} s\".format(int(end-begin)))"
      ]
    },
    {
      "cell_type": "code",
      "execution_count": 26,
      "metadata": {
        "id": "immq0TFouQXe"
      },
      "outputs": [
        {
          "data": {
            "image/png": "[encoded data removed]",
            "text/plain": [
              "<Figure size 576x576 with 2 Axes>"
            ]
          },
          "metadata": {
            "needs_background": "light"
          },
          "output_type": "display_data"
        }
      ],
      "source": [
        "acc = history.history['accuracy']\n",
        "val_acc = history.history['val_accuracy']\n",
        "loss = history.history['loss']\n",
        "val_loss = history.history['val_loss']\n",
        "plt.figure(figsize=(8, 8))\n",
        "plt.subplot(2, 1, 1)\n",
        "plt.plot(acc, label='Training Accuracy')\n",
        "plt.plot(val_acc, label='Validation Accuracy')\n",
        "plt.legend(loc='lower right')\n",
        "plt.ylabel('Accuracy')\n",
        "plt.ylim([min(plt.ylim()), 1])\n",
        "plt.title('Training and Validation Accuracy')\n",
        "plt.subplot(2, 1, 2)\n",
        "plt.plot(loss, label='Training Loss')\n",
        "plt.plot(val_loss, label='Validation Loss')\n",
        "plt.legend(loc='upper right')\n",
        "plt.ylabel('Cross Entropy')\n",
        "plt.title('Training and Validation Loss')\n",
        "plt.xlabel('epoch')\n",
        "plt.show()\n"
      ]
    },
    {
      "cell_type": "code",
      "execution_count": 29,
      "metadata": {},
      "outputs": [
        {
          "name": "stderr",
          "output_type": "stream",
          "text": [
            "WARNING:absl:Function `_wrapped_model` contains input name(s) mobilenetv2_1.00_224_input with unsupported characters which will be renamed to mobilenetv2_1_00_224_input in the SavedModel.\n",
            "/home/jarvis/miniconda3/envs/tcc-25/lib/python3.6/site-packages/tensorflow/python/keras/utils/generic_utils.py:497: CustomMaskWarning: Custom mask layers require a config and must override get_config. When loading, the custom mask layer must be passed to the custom_objects argument.\n",
            "  category=CustomMaskWarning)\n"
          ]
        },
        {
          "name": "stdout",
          "output_type": "stream",
          "text": [
            "INFO:tensorflow:Assets written to: ../../models/mobilenet/assets\n"
          ]
        },
        {
          "name": "stderr",
          "output_type": "stream",
          "text": [
            "INFO:tensorflow:Assets written to: ../../models/mobilenet/assets\n"
          ]
        }
      ],
      "source": [
        "cnn_recognition_net.model.save(saved_model_dir)"
      ]
    }
  ],
  "metadata": {
    "accelerator": "GPU",
    "colab": {
      "collapsed_sections": [],
      "name": "train_classic_cnn.ipynb",
      "provenance": []
    },
    "kernelspec": {
      "display_name": "Python 3",
      "language": "python",
      "name": "python3"
    },
    "language_info": {
      "codemirror_mode": {
        "name": "ipython",
        "version": 3
      },
      "file_extension": ".py",
      "mimetype": "text/x-python",
      "name": "python",
      "nbconvert_exporter": "python",
      "pygments_lexer": "ipython3",
      "version": "3.6.10"
    }
  },
  "nbformat": 4,
  "nbformat_minor": 0
}
