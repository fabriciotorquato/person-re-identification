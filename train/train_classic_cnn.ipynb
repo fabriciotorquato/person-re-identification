{
  "cells": [
    {
      "cell_type": "code",
      "execution_count": 1,
      "metadata": {},
      "outputs": [],
      "source": [
        "import os\n",
        "os.environ['TF_CPP_MIN_LOG_LEVEL'] = '3' "
      ]
    },
    {
      "cell_type": "code",
      "execution_count": 2,
      "metadata": {},
      "outputs": [],
      "source": [
        "import sys\n",
        "sys.path.append('..')"
      ]
    },
    {
      "cell_type": "code",
      "execution_count": 3,
      "metadata": {
        "id": "z_7b-dEeuV9O"
      },
      "outputs": [],
      "source": [
        "import tensorflow as tf\n",
        "import matplotlib.pyplot as plt\n",
        "from nets.detector_MTCNN import DetectorMTCNN\n",
        "from nets import cnn_recognition\n",
        "import shutil\n",
        "import random\n",
        "from tqdm import tqdm"
      ]
    },
    {
      "cell_type": "code",
      "execution_count": 4,
      "metadata": {
        "id": "AsaJMoTwxHIX"
      },
      "outputs": [],
      "source": [
        "img_width, img_height = 224, 224\n",
        "\n",
        "database = '../data/wisenet_dataset/database_frames'\n",
        "dataset = '../data/wisenet_dataset/dataset_cnn'\n",
        "train_dataset = '../data/wisenet_dataset/train_dataset_cnn'\n",
        "\n",
        "labels_class_file = '../models/labels.txt'\n",
        "saved_model_dir = '../models/fine_tuning'\n",
        "\n",
        "train_data = os.path.join(train_dataset, 'train')\n",
        "validation_data = os.path.join(train_dataset, 'test')\n",
        "\n",
        "nb_train_samples = 93\n",
        "nb_validation_samples = 25\n",
        "epochs = 50\n",
        "batch_size = 2\n",
        "numclasses = 5\n",
        "IMG_SHAPE = (img_width, img_height, 3)\n",
        "test_size=.3"
      ]
    },
    {
      "cell_type": "code",
      "execution_count": 5,
      "metadata": {},
      "outputs": [],
      "source": [
        "if os.path.exists(dataset):\n",
        "    shutil.rmtree(dataset)\n",
        "\n",
        "if os.path.exists(train_dataset):\n",
        "    shutil.rmtree(train_dataset)"
      ]
    },
    {
      "cell_type": "code",
      "execution_count": 6,
      "metadata": {},
      "outputs": [],
      "source": [
        "detector_MTCNN = DetectorMTCNN(img_width, img_height)"
      ]
    },
    {
      "cell_type": "code",
      "execution_count": 7,
      "metadata": {},
      "outputs": [
        {
          "name": "stderr",
          "output_type": "stream",
          "text": [
            "  0%|          | 0/605 [00:00<?, ?it/s]"
          ]
        },
        {
          "name": "stdout",
          "output_type": "stream",
          "text": [
            "WARNING:tensorflow:5 out of the last 9 calls to <function Model.make_predict_function.<locals>.predict_function at 0x7f197854ad08> triggered tf.function retracing. Tracing is expensive and the excessive number of tracings could be due to (1) creating @tf.function repeatedly in a loop, (2) passing tensors with different shapes, (3) passing Python objects instead of tensors. For (1), please define your @tf.function outside of the loop. For (2), @tf.function has experimental_relax_shapes=True option that relaxes argument shapes that can avoid unnecessary retracing. For (3), please refer to https://www.tensorflow.org/guide/function#controlling_retracing and https://www.tensorflow.org/api_docs/python/tf/function for  more details.\n"
          ]
        },
        {
          "name": "stderr",
          "output_type": "stream",
          "text": [
            "100%|██████████| 605/605 [03:12<00:00,  3.14it/s]\n"
          ]
        }
      ],
      "source": [
        "detector_MTCNN.crop_align(database, dataset)"
      ]
    },
    {
      "cell_type": "code",
      "execution_count": 8,
      "metadata": {},
      "outputs": [
        {
          "name": "stderr",
          "output_type": "stream",
          "text": [
            "7it [00:00, 76.89it/s]\n"
          ]
        }
      ],
      "source": [
        "os.makedirs(train_dataset)\n",
        "\n",
        "ref = 1\n",
        "\n",
        "for root, dirs, files in tqdm(os.walk(dataset)):\n",
        "    if len(dirs) > 1:\n",
        "        for person in dirs:\n",
        "            root = '{}/{}/'.format(dataset, person )\n",
        "\n",
        "            output_train_dir = '{}/{}'.format(train_data, person)\n",
        "            if not os.path.exists(os.path.join(output_train_dir)):\n",
        "                os.makedirs(output_train_dir)\n",
        "\n",
        "            output_test_dir = '{}/{}'.format(validation_data, person)\n",
        "            if not os.path.exists(output_test_dir):\n",
        "                os.makedirs(output_test_dir)\n",
        "\n",
        "            files = os.listdir(root)\n",
        "            test = random.sample(files, int(len(files) * test_size))\n",
        "            train = list(set(files) - set(test))\n",
        "            for copy_test in test:\n",
        "                shutil.copy(os.path.join(root, copy_test),os.path.join(output_test_dir, copy_test))\n",
        "\n",
        "            for copy_train in train:\n",
        "                shutil.copy(os.path.join(root, copy_train), os.path.join(output_train_dir, copy_train))"
      ]
    },
    {
      "cell_type": "code",
      "execution_count": 9,
      "metadata": {},
      "outputs": [
        {
          "name": "stdout",
          "output_type": "stream",
          "text": [
            "Found 394 images belonging to 6 classes.\n",
            "Found 164 images belonging to 6 classes.\n"
          ]
        }
      ],
      "source": [
        "train_datagen = tf.keras.preprocessing.image.ImageDataGenerator(\n",
        "    rescale=1. / 255,\n",
        "    rotation_range=10,\n",
        "    zoom_range=0.1,  \n",
        "    width_shift_range=0.1,\n",
        "    height_shift_range=0.1,\n",
        "    vertical_flip=False,\n",
        "    horizontal_flip=True)\n",
        "\n",
        "\n",
        "test_datagen = tf.keras.preprocessing.image.ImageDataGenerator(rescale=1. / 255)\n",
        "\n",
        "train_generator = train_datagen.flow_from_directory(\n",
        "    train_data,\n",
        "    target_size=(img_width, img_height),\n",
        "    batch_size=batch_size,\n",
        "    class_mode='categorical')\n",
        "\n",
        "validation_generator = test_datagen.flow_from_directory(\n",
        "    validation_data,\n",
        "    target_size=(img_width, img_height),\n",
        "    batch_size=batch_size,\n",
        "    class_mode='categorical')\n"
      ]
    },
    {
      "cell_type": "code",
      "execution_count": 10,
      "metadata": {},
      "outputs": [
        {
          "name": "stdout",
          "output_type": "stream",
          "text": [
            "{'ID1': 0, 'ID12': 1, 'ID15': 2, 'ID16': 3, 'ID3': 4, 'UNK': 5}\n"
          ]
        }
      ],
      "source": [
        "for image_batch, label_batch in train_generator:\n",
        "    break\n",
        "\n",
        "print(train_generator.class_indices)\n",
        "\n",
        "labels = '\\n'.join(sorted(train_generator.class_indices.keys()))\n",
        "\n",
        "with open(labels_class_file, 'w') as f:\n",
        "    f.write(labels)"
      ]
    },
    {
      "cell_type": "code",
      "execution_count": 11,
      "metadata": {},
      "outputs": [],
      "source": [
        "cnn_recognition_net = cnn_recognition.Net(output_class=len(train_generator.class_indices))"
      ]
    },
    {
      "cell_type": "code",
      "execution_count": 12,
      "metadata": {},
      "outputs": [
        {
          "name": "stdout",
          "output_type": "stream",
          "text": [
            "Model: \"sequential\"\n",
            "_________________________________________________________________\n",
            "Layer (type)                 Output Shape              Param #   \n",
            "=================================================================\n",
            "mobilenetv2_1.00_224 (Functi (None, 7, 7, 1280)        2257984   \n",
            "_________________________________________________________________\n",
            "conv2d_12 (Conv2D)           (None, 5, 5, 32)          368672    \n",
            "_________________________________________________________________\n",
            "dropout (Dropout)            (None, 5, 5, 32)          0         \n",
            "_________________________________________________________________\n",
            "global_average_pooling2d (Gl (None, 32)                0         \n",
            "_________________________________________________________________\n",
            "dense_7 (Dense)              (None, 6)                 198       \n",
            "=================================================================\n",
            "Total params: 2,626,854\n",
            "Trainable params: 368,870\n",
            "Non-trainable params: 2,257,984\n",
            "_________________________________________________________________\n"
          ]
        }
      ],
      "source": [
        "cnn_recognition_net.model.compile(optimizer=tf.keras.optimizers.Adam(), loss='categorical_crossentropy', metrics=['accuracy']) \n",
        "cnn_recognition_net.model.summary()"
      ]
    },
    {
      "cell_type": "code",
      "execution_count": 13,
      "metadata": {
        "colab": {
          "base_uri": "https://localhost:8080/"
        },
        "id": "KgJN3epFuQXc",
        "outputId": "27fa2cb2-b9ca-425e-950e-1a1b41e5064d"
      },
      "outputs": [
        {
          "name": "stdout",
          "output_type": "stream",
          "text": [
            "Number of trainable variables = 4\n"
          ]
        }
      ],
      "source": [
        "print('Number of trainable variables = {}'.format(len(cnn_recognition_net.model.trainable_variables)))"
      ]
    },
    {
      "cell_type": "code",
      "execution_count": 14,
      "metadata": {
        "colab": {
          "base_uri": "https://localhost:8080/",
          "height": 476
        },
        "id": "OC2PCYEtuQXd",
        "outputId": "aec94a98-271d-4517-b604-2701140e85ed"
      },
      "outputs": [
        {
          "name": "stdout",
          "output_type": "stream",
          "text": [
            "Epoch 1/15\n",
            "197/197 [==============================] - 15s 68ms/step - loss: 1.7440 - accuracy: 0.3401 - val_loss: 1.5000 - val_accuracy: 0.3110\n",
            "Epoch 2/15\n",
            "197/197 [==============================] - 12s 59ms/step - loss: 1.4024 - accuracy: 0.3731 - val_loss: 1.3433 - val_accuracy: 0.3354\n",
            "Epoch 3/15\n",
            "197/197 [==============================] - 14s 73ms/step - loss: 1.2766 - accuracy: 0.4619 - val_loss: 1.1931 - val_accuracy: 0.4756\n",
            "Epoch 4/15\n",
            "197/197 [==============================] - 15s 76ms/step - loss: 1.2026 - accuracy: 0.4873 - val_loss: 1.1589 - val_accuracy: 0.5610\n",
            "Epoch 5/15\n",
            "197/197 [==============================] - 15s 76ms/step - loss: 1.1262 - accuracy: 0.5406 - val_loss: 1.0276 - val_accuracy: 0.6159\n",
            "Epoch 6/15\n",
            "197/197 [==============================] - 15s 76ms/step - loss: 1.1664 - accuracy: 0.5635 - val_loss: 1.2194 - val_accuracy: 0.5122\n",
            "Epoch 7/15\n",
            "197/197 [==============================] - 15s 76ms/step - loss: 1.1171 - accuracy: 0.5711 - val_loss: 1.1329 - val_accuracy: 0.6585\n",
            "Epoch 8/15\n",
            "197/197 [==============================] - 15s 78ms/step - loss: 0.9922 - accuracy: 0.6523 - val_loss: 1.0937 - val_accuracy: 0.6829\n",
            "Epoch 9/15\n",
            "197/197 [==============================] - 14s 73ms/step - loss: 0.8967 - accuracy: 0.6853 - val_loss: 0.9289 - val_accuracy: 0.7012\n",
            "Epoch 10/15\n",
            "197/197 [==============================] - 14s 70ms/step - loss: 0.9327 - accuracy: 0.6675 - val_loss: 0.9427 - val_accuracy: 0.6402\n",
            "Epoch 11/15\n",
            "197/197 [==============================] - 14s 70ms/step - loss: 0.8408 - accuracy: 0.6954 - val_loss: 0.8797 - val_accuracy: 0.7012\n",
            "Epoch 12/15\n",
            "197/197 [==============================] - 14s 71ms/step - loss: 0.6940 - accuracy: 0.7563 - val_loss: 0.8577 - val_accuracy: 0.7256\n",
            "Epoch 13/15\n",
            "197/197 [==============================] - 14s 72ms/step - loss: 0.7038 - accuracy: 0.7462 - val_loss: 0.8830 - val_accuracy: 0.6890\n",
            "Epoch 14/15\n",
            "197/197 [==============================] - 14s 72ms/step - loss: 0.6670 - accuracy: 0.7817 - val_loss: 0.8423 - val_accuracy: 0.7439\n",
            "Epoch 15/15\n",
            "197/197 [==============================] - 15s 75ms/step - loss: 0.6074 - accuracy: 0.8020 - val_loss: 0.7745 - val_accuracy: 0.7500\n"
          ]
        }
      ],
      "source": [
        "nb_train_samples = 93\n",
        "nb_validation_samples = 25\n",
        "batch_size = 32\n",
        "initial_epochs = 25\n",
        "\n",
        "history = cnn_recognition_net.model.fit(train_generator, epochs=initial_epochs,validation_data=validation_generator)"
      ]
    },
    {
      "cell_type": "code",
      "execution_count": 15,
      "metadata": {
        "id": "immq0TFouQXe"
      },
      "outputs": [
        {
          "data": {
            "image/png": "[encoded data removed]",
            "text/plain": [
              "<Figure size 576x576 with 2 Axes>"
            ]
          },
          "metadata": {
            "needs_background": "light"
          },
          "output_type": "display_data"
        }
      ],
      "source": [
        "acc = history.history['accuracy']\n",
        "val_acc = history.history['val_accuracy']\n",
        "loss = history.history['loss']\n",
        "val_loss = history.history['val_loss']\n",
        "plt.figure(figsize=(8, 8))\n",
        "plt.subplot(2, 1, 1)\n",
        "plt.plot(acc, label='Training Accuracy')\n",
        "plt.plot(val_acc, label='Validation Accuracy')\n",
        "plt.legend(loc='lower right')\n",
        "plt.ylabel('Accuracy')\n",
        "plt.ylim([min(plt.ylim()), 1])\n",
        "plt.title('Training and Validation Accuracy')\n",
        "plt.subplot(2, 1, 2)\n",
        "plt.plot(loss, label='Training Loss')\n",
        "plt.plot(val_loss, label='Validation Loss')\n",
        "plt.legend(loc='upper right')\n",
        "plt.ylabel('Cross Entropy')\n",
        "plt.title('Training and Validation Loss')\n",
        "plt.xlabel('epoch')\n",
        "plt.show()\n"
      ]
    },
    {
      "cell_type": "code",
      "execution_count": 16,
      "metadata": {},
      "outputs": [
        {
          "name": "stdout",
          "output_type": "stream",
          "text": [
            "Number of layers in the base model:  154\n",
            "Model: \"sequential\"\n",
            "_________________________________________________________________\n",
            "Layer (type)                 Output Shape              Param #   \n",
            "=================================================================\n",
            "mobilenetv2_1.00_224 (Functi (None, 7, 7, 1280)        2257984   \n",
            "_________________________________________________________________\n",
            "conv2d_12 (Conv2D)           (None, 5, 5, 32)          368672    \n",
            "_________________________________________________________________\n",
            "dropout (Dropout)            (None, 5, 5, 32)          0         \n",
            "_________________________________________________________________\n",
            "global_average_pooling2d (Gl (None, 32)                0         \n",
            "_________________________________________________________________\n",
            "dense_7 (Dense)              (None, 6)                 198       \n",
            "=================================================================\n",
            "Total params: 2,626,854\n",
            "Trainable params: 2,230,310\n",
            "Non-trainable params: 396,544\n",
            "_________________________________________________________________\n"
          ]
        }
      ],
      "source": [
        "# Setting back to trainable\n",
        "cnn_recognition_net.base_model.trainable = True\n",
        "\n",
        "# Let's take a look to see how many layers are in the base model\n",
        "print('Number of layers in the base model: ', len(cnn_recognition_net.base_model.layers))\n",
        "\n",
        "# Fine tune from this layer onwards\n",
        "fine_tune_at = 100\n",
        "\n",
        "# Freeze all the layers before the `fine_tune_at` layer\n",
        "for layer in cnn_recognition_net.base_model.layers[:fine_tune_at]:\n",
        "    layer.trainable = False\n",
        "\n",
        "# Compile the model\n",
        "# Compile the model using a much lower training rate.\n",
        "# Notice the parameter in Adam() function, parameter passed to Adam is the learning rate\n",
        "cnn_recognition_net.model.compile(loss='categorical_crossentropy',\n",
        "              optimizer=tf.keras.optimizers.Adam(1e-5),\n",
        "              metrics=['accuracy'])\n",
        "\n",
        "# Getting the summary of the final model\n",
        "cnn_recognition_net.model.summary()"
      ]
    },
    {
      "cell_type": "code",
      "execution_count": 17,
      "metadata": {},
      "outputs": [
        {
          "name": "stdout",
          "output_type": "stream",
          "text": [
            "Number of trainable variables = 58\n"
          ]
        }
      ],
      "source": [
        "# Printing Training Variables\n",
        "print('Number of trainable variables = {}'.format(\n",
        "    len(cnn_recognition_net.model.trainable_variables)))"
      ]
    },
    {
      "cell_type": "code",
      "execution_count": 21,
      "metadata": {},
      "outputs": [
        {
          "name": "stdout",
          "output_type": "stream",
          "text": [
            "Epoch 15/45\n",
            "197/197 [==============================] - 19s 96ms/step - loss: 1.1376 - accuracy: 0.5914 - val_loss: 1.1102 - val_accuracy: 0.6098\n",
            "Epoch 16/45\n",
            "197/197 [==============================] - 22s 110ms/step - loss: 1.0940 - accuracy: 0.5812 - val_loss: 1.1136 - val_accuracy: 0.6037\n",
            "Epoch 17/45\n",
            "197/197 [==============================] - 22s 113ms/step - loss: 1.0982 - accuracy: 0.5635 - val_loss: 1.0885 - val_accuracy: 0.6098\n",
            "Epoch 18/45\n",
            "197/197 [==============================] - 22s 111ms/step - loss: 1.0308 - accuracy: 0.6320 - val_loss: 1.0959 - val_accuracy: 0.5793\n",
            "Epoch 19/45\n",
            "197/197 [==============================] - 22s 112ms/step - loss: 1.0665 - accuracy: 0.6345 - val_loss: 1.0617 - val_accuracy: 0.6037\n",
            "Epoch 20/45\n",
            "197/197 [==============================] - 22s 112ms/step - loss: 0.9954 - accuracy: 0.6548 - val_loss: 1.0691 - val_accuracy: 0.5976\n",
            "Epoch 21/45\n",
            "197/197 [==============================] - 22s 113ms/step - loss: 0.9978 - accuracy: 0.6574 - val_loss: 1.0228 - val_accuracy: 0.6098\n",
            "Epoch 22/45\n",
            "197/197 [==============================] - 23s 117ms/step - loss: 0.9446 - accuracy: 0.6751 - val_loss: 1.0198 - val_accuracy: 0.5915\n",
            "Epoch 23/45\n",
            "197/197 [==============================] - 22s 113ms/step - loss: 0.9391 - accuracy: 0.6980 - val_loss: 0.9541 - val_accuracy: 0.6402\n",
            "Epoch 24/45\n",
            "197/197 [==============================] - 22s 112ms/step - loss: 0.9103 - accuracy: 0.6954 - val_loss: 0.9244 - val_accuracy: 0.6707\n",
            "Epoch 25/45\n",
            "197/197 [==============================] - 21s 107ms/step - loss: 0.8914 - accuracy: 0.6853 - val_loss: 0.9087 - val_accuracy: 0.6707\n",
            "Epoch 26/45\n",
            "197/197 [==============================] - 21s 105ms/step - loss: 0.8366 - accuracy: 0.7157 - val_loss: 0.9438 - val_accuracy: 0.6585\n",
            "Epoch 27/45\n",
            "197/197 [==============================] - 21s 105ms/step - loss: 0.8429 - accuracy: 0.7183 - val_loss: 0.9125 - val_accuracy: 0.6524\n",
            "Epoch 28/45\n",
            "197/197 [==============================] - 21s 104ms/step - loss: 0.8121 - accuracy: 0.7157 - val_loss: 0.9285 - val_accuracy: 0.6524\n",
            "Epoch 29/45\n",
            "197/197 [==============================] - 21s 106ms/step - loss: 0.7846 - accuracy: 0.7284 - val_loss: 0.8845 - val_accuracy: 0.6768\n",
            "Epoch 30/45\n",
            "197/197 [==============================] - 21s 106ms/step - loss: 0.7681 - accuracy: 0.7132 - val_loss: 0.8585 - val_accuracy: 0.6707\n",
            "Epoch 31/45\n",
            "197/197 [==============================] - 22s 110ms/step - loss: 0.7198 - accuracy: 0.7437 - val_loss: 0.9646 - val_accuracy: 0.6402\n",
            "Epoch 32/45\n",
            "197/197 [==============================] - 21s 106ms/step - loss: 0.6980 - accuracy: 0.7944 - val_loss: 0.8483 - val_accuracy: 0.6890\n",
            "Epoch 33/45\n",
            "197/197 [==============================] - 22s 110ms/step - loss: 0.6735 - accuracy: 0.7411 - val_loss: 0.8476 - val_accuracy: 0.6646\n",
            "Epoch 34/45\n",
            "197/197 [==============================] - 21s 105ms/step - loss: 0.6517 - accuracy: 0.7563 - val_loss: 0.9846 - val_accuracy: 0.6402\n",
            "Epoch 35/45\n",
            "197/197 [==============================] - 21s 106ms/step - loss: 0.5967 - accuracy: 0.8071 - val_loss: 1.0446 - val_accuracy: 0.6220\n",
            "Epoch 36/45\n",
            "197/197 [==============================] - 19s 96ms/step - loss: 0.6296 - accuracy: 0.7919 - val_loss: 0.9184 - val_accuracy: 0.7012\n",
            "Epoch 37/45\n",
            "197/197 [==============================] - 21s 106ms/step - loss: 0.5853 - accuracy: 0.7995 - val_loss: 0.9571 - val_accuracy: 0.6524\n",
            "Epoch 38/45\n",
            "197/197 [==============================] - 21s 105ms/step - loss: 0.5821 - accuracy: 0.8147 - val_loss: 1.0109 - val_accuracy: 0.6646\n",
            "Epoch 39/45\n",
            "197/197 [==============================] - 21s 105ms/step - loss: 0.5802 - accuracy: 0.7970 - val_loss: 1.0225 - val_accuracy: 0.6585\n",
            "Epoch 40/45\n",
            "197/197 [==============================] - 21s 105ms/step - loss: 0.5072 - accuracy: 0.8477 - val_loss: 1.0144 - val_accuracy: 0.6585\n",
            "Epoch 41/45\n",
            "197/197 [==============================] - 21s 105ms/step - loss: 0.5224 - accuracy: 0.7944 - val_loss: 1.0741 - val_accuracy: 0.6463\n",
            "Epoch 42/45\n",
            "197/197 [==============================] - 21s 105ms/step - loss: 0.4915 - accuracy: 0.8503 - val_loss: 1.0407 - val_accuracy: 0.6463\n",
            "Epoch 43/45\n",
            "197/197 [==============================] - 21s 105ms/step - loss: 0.4895 - accuracy: 0.8198 - val_loss: 1.0970 - val_accuracy: 0.6646\n",
            "Epoch 44/45\n",
            "197/197 [==============================] - 21s 105ms/step - loss: 0.5069 - accuracy: 0.8503 - val_loss: 1.2573 - val_accuracy: 0.6341\n",
            "Epoch 45/45\n",
            "197/197 [==============================] - 19s 94ms/step - loss: 0.4417 - accuracy: 0.8731 - val_loss: 1.1030 - val_accuracy: 0.6524\n"
          ]
        }
      ],
      "source": [
        "fine_tune_epochs = 30\n",
        "total_epochs = initial_epochs + fine_tune_epochs\n",
        "\n",
        "# Continue Train the model\n",
        "history_fine = cnn_recognition_net.model.fit(train_generator,\n",
        "                         epochs=total_epochs,\n",
        "                         initial_epoch=history.epoch[-1],\n",
        "                         validation_data=validation_generator)\n"
      ]
    },
    {
      "cell_type": "code",
      "execution_count": 19,
      "metadata": {},
      "outputs": [
        {
          "name": "stderr",
          "output_type": "stream",
          "text": [
            "WARNING:absl:Function `_wrapped_model` contains input name(s) mobilenetv2_1.00_224_input with unsupported characters which will be renamed to mobilenetv2_1_00_224_input in the SavedModel.\n",
            "/home/jarvis/miniconda3/envs/tcc-25/lib/python3.6/site-packages/tensorflow/python/keras/utils/generic_utils.py:497: CustomMaskWarning: Custom mask layers require a config and must override get_config. When loading, the custom mask layer must be passed to the custom_objects argument.\n",
            "  category=CustomMaskWarning)\n"
          ]
        },
        {
          "name": "stdout",
          "output_type": "stream",
          "text": [
            "INFO:tensorflow:Assets written to: ../models/fine_tuning/assets\n"
          ]
        },
        {
          "name": "stderr",
          "output_type": "stream",
          "text": [
            "INFO:tensorflow:Assets written to: ../models/fine_tuning/assets\n"
          ]
        }
      ],
      "source": [
        "cnn_recognition_net.model.save(saved_model_dir)"
      ]
    },
    {
      "cell_type": "code",
      "execution_count": 22,
      "metadata": {},
      "outputs": [
        {
          "data": {
            "image/png": "[encoded data removed]",
            "text/plain": [
              "<Figure size 576x576 with 2 Axes>"
            ]
          },
          "metadata": {
            "needs_background": "light"
          },
          "output_type": "display_data"
        }
      ],
      "source": [
        "acc += history_fine.history['accuracy']\n",
        "val_acc += history_fine.history['val_accuracy']\n",
        "loss += history_fine.history['loss']\n",
        "val_loss += history_fine.history['val_loss']\n",
        "plt.figure(figsize=(8, 8))\n",
        "plt.subplot(2, 1, 1)\n",
        "plt.plot(acc, label='Training Accuracy')\n",
        "plt.plot(val_acc, label='Validation Accuracy')\n",
        "plt.ylim([0, 1.0])\n",
        "plt.plot([initial_epochs-1, initial_epochs-1],\n",
        "         plt.ylim(), label='Start Fine Tuning')\n",
        "plt.legend(loc='lower right')\n",
        "plt.title('Training and Validation Accuracy')\n",
        "plt.subplot(2, 1, 2)\n",
        "plt.plot(loss, label='Training Loss')\n",
        "plt.plot(val_loss, label='Validation Loss')\n",
        "plt.plot([initial_epochs-1, initial_epochs-1],\n",
        "         plt.ylim(), label='Start Fine Tuning')\n",
        "plt.legend(loc='upper right')\n",
        "plt.title('Training and Validation Loss')\n",
        "plt.xlabel('epoch')\n",
        "plt.show()\n"
      ]
    }
  ],
  "metadata": {
    "accelerator": "GPU",
    "colab": {
      "collapsed_sections": [],
      "name": "train_classic_cnn.ipynb",
      "provenance": []
    },
    "kernelspec": {
      "display_name": "Python 3",
      "language": "python",
      "name": "python3"
    },
    "language_info": {
      "codemirror_mode": {
        "name": "ipython",
        "version": 3
      },
      "file_extension": ".py",
      "mimetype": "text/x-python",
      "name": "python",
      "nbconvert_exporter": "python",
      "pygments_lexer": "ipython3",
      "version": "3.6.10"
    }
  },
  "nbformat": 4,
  "nbformat_minor": 0
}
