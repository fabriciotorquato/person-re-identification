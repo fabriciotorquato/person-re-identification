{
 "cells": [
  {
   "cell_type": "code",
   "execution_count": 1,
   "metadata": {},
   "outputs": [],
   "source": [
    "import os\n",
    "os.environ['TF_CPP_MIN_LOG_LEVEL'] = '3' "
   ]
  },
  {
   "cell_type": "code",
   "execution_count": 2,
   "metadata": {
    "collapsed": false,
    "pycharm": {
     "name": "#%%\n"
    }
   },
   "outputs": [],
   "source": [
    "import shutil\n",
    "import random\n",
    "import sys\n",
    "\n",
    "sys.path.append(\"../facenetLib\")  # go to parent dir\n",
    "sys.path.append(\"..\")  # go to parent dir"
   ]
  },
  {
   "cell_type": "code",
   "execution_count": 3,
   "metadata": {
    "collapsed": false,
    "pycharm": {
     "name": "#%%\n"
    }
   },
   "outputs": [],
   "source": [
    "database = '../data/wisenet_dataset/database'\n",
    "dataset = '../data/wisenet_dataset/dataset'\n",
    "train_dataset = '../data/wisenet_dataset/train_dataset'\n",
    "test_size = .5"
   ]
  },
  {
   "cell_type": "code",
   "execution_count": 4,
   "metadata": {
    "collapsed": false,
    "pycharm": {
     "name": "#%%\n"
    }
   },
   "outputs": [
    {
     "name": "stdout",
     "output_type": "stream",
     "text": [
      "Creating  and loading parameters\n"
     ]
    }
   ],
   "source": [
    "from facenetLib.align.align_dataset_mtcnn import main\n",
    "from facenetLib.align.align_dataset_mtcnn import parse_arguments\n",
    "\n",
    "args = [database,\n",
    "        dataset,\n",
    "        '--image_size', \"160\",\n",
    "        '--margin', \"32\",\n",
    "        '--random_order']\n",
    "main(parse_arguments(args))"
   ]
  },
  {
   "cell_type": "code",
   "execution_count": null,
   "metadata": {
    "collapsed": false,
    "pycharm": {
     "name": "#%%\n"
    }
   },
   "outputs": [],
   "source": [
    "if not os.path.exists(train_dataset):\n",
    "    os.makedirs(train_dataset)\n",
    "\n",
    "ref = 1\n",
    "\n",
    "for root, dirs, files in os.walk(dataset):\n",
    "    if len(dirs) > 1:\n",
    "        for person in dirs:\n",
    "            print(person)\n",
    "            root = dataset + '/' + person + '/'\n",
    "            print('root: ' + root)\n",
    "\n",
    "            output_train_dir = train_dataset + '/train/' + person\n",
    "            if not os.path.exists(os.path.join(output_train_dir)):\n",
    "                os.makedirs(output_train_dir)\n",
    "\n",
    "            output_test_dir = train_dataset + '/test/' + person\n",
    "            if not os.path.exists(output_test_dir):\n",
    "                os.makedirs(output_test_dir)\n",
    "\n",
    "            files = os.listdir(root)\n",
    "            test = random.sample(files, int(len(files) * test_size))\n",
    "            train = list(set(files) - set(test))\n",
    "            for copy_test in test:\n",
    "                shutil.copy(os.path.join(root, copy_test),\n",
    "                            os.path.join(output_test_dir, copy_test))\n",
    "                print('--- copy ' + os.path.join(root, copy_test) + ' --> ' + os.path.join(output_test_dir, copy_test))\n",
    "\n",
    "            for copy_train in train:\n",
    "                shutil.copy(os.path.join(root, copy_train),\n",
    "                            os.path.join(output_train_dir, copy_train))\n",
    "                print(\n",
    "                    '--- copy ' + os.path.join(root, copy_train) + ' --> ' + os.path.join(output_train_dir, copy_train))"
   ]
  },
  {
   "cell_type": "code",
   "execution_count": null,
   "metadata": {
    "collapsed": false,
    "pycharm": {
     "name": "#%%\n"
    }
   },
   "outputs": [],
   "source": [
    "from facenetLib.classifier import main\n",
    "from facenetLib.classifier import parse_arguments\n",
    "\n",
    "args = ['TRAIN',\n",
    "        '{}/train'.format(train_dataset),\n",
    "        '../models/20180402-114759.pb',\n",
    "        '../models/one_shot_classifier.pkl',\n",
    "        '--batch_size', \"100\"]\n",
    "main(parse_arguments(args))"
   ]
  },
  {
   "cell_type": "code",
   "execution_count": null,
   "metadata": {
    "collapsed": false,
    "pycharm": {
     "name": "#%%pwd=$(pwd)\n"
    }
   },
   "outputs": [],
   "source": [
    "from facenetLib.classifier import main\n",
    "from facenetLib.classifier import parse_arguments\n",
    "\n",
    "args = ['CLASSIFY',\n",
    "        '{}/test'.format(train_dataset),\n",
    "        '../models/20180402-114759.pb',\n",
    "        '../models/one_shot_classifier.pkl',\n",
    "        '--batch_size', \"100\"]\n",
    "main(parse_arguments(args))\n"
   ]
  }
 ],
 "metadata": {
  "kernelspec": {
   "display_name": "Python 3",
   "language": "python",
   "name": "python3"
  },
  "language_info": {
   "codemirror_mode": {
    "name": "ipython",
    "version": 3
   },
   "file_extension": ".py",
   "mimetype": "text/x-python",
   "name": "python",
   "nbconvert_exporter": "python",
   "pygments_lexer": "ipython3",
   "version": "3.6.10"
  }
 },
 "nbformat": 4,
 "nbformat_minor": 0
}
