{
 "cells": [
  {
   "cell_type": "code",
   "execution_count": 25,
   "outputs": [],
   "source": [
    "import os\n",
    "import shutil\n",
    "import random\n",
    "import sys\n",
    "\n",
    "sys.path.append(\"../facenetLib\")  # go to parent dir"
   ],
   "metadata": {
    "collapsed": false,
    "pycharm": {
     "name": "#%%\n"
    }
   }
  },
  {
   "cell_type": "code",
   "execution_count": 26,
   "outputs": [],
   "source": [
    "database = '../data/wisenet_dataset/database'\n",
    "dataset = '../data/wisenet_dataset/dataset'\n",
    "train_dataset = '../data/wisenet_dataset/train_dataset'\n",
    "test_size = .5"
   ],
   "metadata": {
    "collapsed": false,
    "pycharm": {
     "name": "#%%\n"
    }
   }
  },
  {
   "cell_type": "code",
   "execution_count": 27,
   "outputs": [
    {
     "name": "stdout",
     "output_type": "stream",
     "text": [
      "Creating  and loading parameters\n",
      "../data/wisenet_dataset/database/ID3/Screen Shot 2021-11-03 at 23.03.32.png\n",
      "../data/wisenet_dataset/database/ID3/Screen Shot 2021-11-03 at 21.18.53.png\n",
      "Unable to align \"../data/wisenet_dataset/database/ID3/Screen Shot 2021-11-03 at 21.18.53.png\"\n",
      "../data/wisenet_dataset/database/ID3/Screen Shot 2021-11-03 at 21.22.00.png\n",
      "../data/wisenet_dataset/database/ID3/Screen Shot 2021-11-03 at 23.03.14.png\n",
      "../data/wisenet_dataset/database/ID3/Screen Shot 2021-11-03 at 21.18.41.png\n",
      "Unable to align \"../data/wisenet_dataset/database/ID3/Screen Shot 2021-11-03 at 21.18.41.png\"\n",
      "../data/wisenet_dataset/database/ID3/Screen Shot 2021-11-03 at 21.22.14.png\n",
      "../data/wisenet_dataset/database/ID3/Screen Shot 2021-11-03 at 23.02.52.png\n",
      "Unable to align \"../data/wisenet_dataset/database/ID3/Screen Shot 2021-11-03 at 23.02.52.png\"\n",
      "../data/wisenet_dataset/database/ID3/Screen Shot 2021-11-03 at 21.22.42.png\n",
      "Unable to align \"../data/wisenet_dataset/database/ID3/Screen Shot 2021-11-03 at 21.22.42.png\"\n",
      "../data/wisenet_dataset/database/ID3/Screen Shot 2021-11-03 at 23.01.16.png\n",
      "../data/wisenet_dataset/database/ID3/Screen Shot 2021-11-03 at 21.20.30.png\n",
      "Unable to align \"../data/wisenet_dataset/database/ID3/Screen Shot 2021-11-03 at 21.20.30.png\"\n",
      "../data/wisenet_dataset/database/ID3/Screen Shot 2021-11-03 at 22.59.53.png\n",
      "../data/wisenet_dataset/database/ID3/Screen Shot 2021-11-03 at 23.03.56.png\n",
      "../data/wisenet_dataset/database/ID3/Screen Shot 2021-11-03 at 21.20.51.png\n",
      "Unable to align \"../data/wisenet_dataset/database/ID3/Screen Shot 2021-11-03 at 21.20.51.png\"\n",
      "../data/wisenet_dataset/database/ID3/Screen Shot 2021-11-03 at 21.19.49.png\n",
      "../data/wisenet_dataset/database/ID3/Screen Shot 2021-11-03 at 23.00.09.png\n",
      "../data/wisenet_dataset/database/ID3/Screen Shot 2021-11-03 at 22.59.43.png\n",
      "../data/wisenet_dataset/database/ID3/Screen Shot 2021-11-03 at 23.01.51.png\n",
      "../data/wisenet_dataset/database/ID3/Screen Shot 2021-11-03 at 23.02.06.png\n",
      "../data/wisenet_dataset/database/ID5/Screen Shot 2021-11-03 at 22.42.04.png\n",
      "../data/wisenet_dataset/database/ID5/Screen Shot 2021-11-03 at 22.40.11.png\n",
      "Unable to align \"../data/wisenet_dataset/database/ID5/Screen Shot 2021-11-03 at 22.40.11.png\"\n",
      "../data/wisenet_dataset/database/ID5/Screen Shot 2021-11-03 at 23.00.52.png\n",
      "../data/wisenet_dataset/database/ID5/Screen Shot 2021-11-03 at 22.59.07.png\n",
      "../data/wisenet_dataset/database/ID5/Screen Shot 2021-11-03 at 22.39.53.png\n",
      "Unable to align \"../data/wisenet_dataset/database/ID5/Screen Shot 2021-11-03 at 22.39.53.png\"\n",
      "../data/wisenet_dataset/database/ID5/Screen Shot 2021-11-03 at 23.01.20.png\n",
      "../data/wisenet_dataset/database/ID5/Screen Shot 2021-11-03 at 22.59.21.png\n",
      "../data/wisenet_dataset/database/ID5/Screen Shot 2021-11-03 at 22.38.48.png\n",
      "../data/wisenet_dataset/database/ID5/Screen Shot 2021-11-03 at 22.42.30.png\n",
      "../data/wisenet_dataset/database/ID5/Screen Shot 2021-11-03 at 22.59.57.png\n",
      "../data/wisenet_dataset/database/ID5/Screen Shot 2021-11-03 at 22.40.57.png\n",
      "../data/wisenet_dataset/database/ID5/Screen Shot 2021-11-03 at 22.58.54.png\n",
      "../data/wisenet_dataset/database/ID5/Screen Shot 2021-11-03 at 22.43.05.png\n",
      "../data/wisenet_dataset/database/ID5/Screen Shot 2021-11-03 at 22.59.46.png\n",
      "../data/wisenet_dataset/database/ID5/Screen Shot 2021-11-03 at 22.41.21.png\n",
      "Unable to align \"../data/wisenet_dataset/database/ID5/Screen Shot 2021-11-03 at 22.41.21.png\"\n",
      "../data/wisenet_dataset/database/ID5/Screen Shot 2021-11-03 at 23.01.48.png\n",
      "../data/wisenet_dataset/database/ID5/Screen Shot 2021-11-03 at 22.39.22.png\n",
      "../data/wisenet_dataset/database/ID5/Screen Shot 2021-11-03 at 22.40.40.png\n",
      "../data/wisenet_dataset/database/ID5/Screen Shot 2021-11-03 at 22.39.30.png\n",
      "../data/wisenet_dataset/database/ID5/Screen Shot 2021-11-03 at 23.02.02.png\n",
      "../data/wisenet_dataset/database/ID5/Screen Shot 2021-11-03 at 22.42.54.png\n",
      "../data/wisenet_dataset/database/ID5/Screen Shot 2021-11-03 at 23.03.41.png\n",
      "../data/wisenet_dataset/database/ID5/Screen Shot 2021-11-03 at 22.42.13.png\n",
      "../data/wisenet_dataset/database/ID4/Screen Shot 2021-11-03 at 21.14.19.png\n",
      "../data/wisenet_dataset/database/ID4/Screen Shot 2021-11-03 at 21.21.09.png\n",
      "../data/wisenet_dataset/database/ID4/Screen Shot 2021-11-03 at 21.17.22.png\n",
      "Unable to align \"../data/wisenet_dataset/database/ID4/Screen Shot 2021-11-03 at 21.17.22.png\"\n",
      "../data/wisenet_dataset/database/ID4/Screen Shot 2021-11-03 at 21.21.28.png\n",
      "../data/wisenet_dataset/database/ID4/Screen Shot 2021-11-03 at 21.16.56.png\n",
      "../data/wisenet_dataset/database/ID4/Screen Shot 2021-11-03 at 21.23.15.png\n",
      "../data/wisenet_dataset/database/ID4/Screen Shot 2021-11-03 at 21.17.36.png\n",
      "Total number of images: 48\n",
      "Number of successfully aligned images: 38\n"
     ]
    }
   ],
   "source": [
    "from facenetLib.align.align_dataset_mtcnn import main\n",
    "from facenetLib.align.align_dataset_mtcnn import parse_arguments\n",
    "\n",
    "args = [database,\n",
    "        dataset,\n",
    "        '--image_size', \"160\",\n",
    "        '--margin', \"32\",\n",
    "        '--random_order']\n",
    "main(parse_arguments(args))"
   ],
   "metadata": {
    "collapsed": false,
    "pycharm": {
     "name": "#%%\n"
    }
   }
  },
  {
   "cell_type": "code",
   "execution_count": 28,
   "outputs": [
    {
     "name": "stdout",
     "output_type": "stream",
     "text": [
      "ID5\n",
      "root: ../data/wisenet_dataset/dataset/ID5/\n",
      "--- copy ../data/wisenet_dataset/dataset/ID5/Screen Shot 2021-11-03 at 22.59.21.png --> ../data/wisenet_dataset/train_dataset/test/ID5/Screen Shot 2021-11-03 at 22.59.21.png\n",
      "--- copy ../data/wisenet_dataset/dataset/ID5/Screen Shot 2021-11-03 at 23.00.52.png --> ../data/wisenet_dataset/train_dataset/test/ID5/Screen Shot 2021-11-03 at 23.00.52.png\n",
      "--- copy ../data/wisenet_dataset/dataset/ID5/Screen Shot 2021-11-03 at 22.38.48.png --> ../data/wisenet_dataset/train_dataset/test/ID5/Screen Shot 2021-11-03 at 22.38.48.png\n",
      "--- copy ../data/wisenet_dataset/dataset/ID5/Screen Shot 2021-11-03 at 22.40.40.png --> ../data/wisenet_dataset/train_dataset/test/ID5/Screen Shot 2021-11-03 at 22.40.40.png\n",
      "--- copy ../data/wisenet_dataset/dataset/ID5/Screen Shot 2021-11-03 at 22.58.54.png --> ../data/wisenet_dataset/train_dataset/test/ID5/Screen Shot 2021-11-03 at 22.58.54.png\n",
      "--- copy ../data/wisenet_dataset/dataset/ID5/Screen Shot 2021-11-03 at 22.42.13.png --> ../data/wisenet_dataset/train_dataset/test/ID5/Screen Shot 2021-11-03 at 22.42.13.png\n",
      "--- copy ../data/wisenet_dataset/dataset/ID5/Screen Shot 2021-11-03 at 23.01.48.png --> ../data/wisenet_dataset/train_dataset/test/ID5/Screen Shot 2021-11-03 at 23.01.48.png\n",
      "--- copy ../data/wisenet_dataset/dataset/ID5/Screen Shot 2021-11-03 at 22.42.04.png --> ../data/wisenet_dataset/train_dataset/test/ID5/Screen Shot 2021-11-03 at 22.42.04.png\n",
      "--- copy ../data/wisenet_dataset/dataset/ID5/Screen Shot 2021-11-03 at 22.59.46.png --> ../data/wisenet_dataset/train_dataset/test/ID5/Screen Shot 2021-11-03 at 22.59.46.png\n",
      "--- copy ../data/wisenet_dataset/dataset/ID5/Screen Shot 2021-11-03 at 22.43.05.png --> ../data/wisenet_dataset/train_dataset/test/ID5/Screen Shot 2021-11-03 at 22.43.05.png\n",
      "--- copy ../data/wisenet_dataset/dataset/ID5/Screen Shot 2021-11-03 at 22.40.57.png --> ../data/wisenet_dataset/train_dataset/train/ID5/Screen Shot 2021-11-03 at 22.40.57.png\n",
      "--- copy ../data/wisenet_dataset/dataset/ID5/Screen Shot 2021-11-03 at 22.42.30.png --> ../data/wisenet_dataset/train_dataset/train/ID5/Screen Shot 2021-11-03 at 22.42.30.png\n",
      "--- copy ../data/wisenet_dataset/dataset/ID5/Screen Shot 2021-11-03 at 22.39.30.png --> ../data/wisenet_dataset/train_dataset/train/ID5/Screen Shot 2021-11-03 at 22.39.30.png\n",
      "--- copy ../data/wisenet_dataset/dataset/ID5/Screen Shot 2021-11-03 at 23.03.41.png --> ../data/wisenet_dataset/train_dataset/train/ID5/Screen Shot 2021-11-03 at 23.03.41.png\n",
      "--- copy ../data/wisenet_dataset/dataset/ID5/Screen Shot 2021-11-03 at 22.59.07.png --> ../data/wisenet_dataset/train_dataset/train/ID5/Screen Shot 2021-11-03 at 22.59.07.png\n",
      "--- copy ../data/wisenet_dataset/dataset/ID5/Screen Shot 2021-11-03 at 22.42.54.png --> ../data/wisenet_dataset/train_dataset/train/ID5/Screen Shot 2021-11-03 at 22.42.54.png\n",
      "--- copy ../data/wisenet_dataset/dataset/ID5/Screen Shot 2021-11-03 at 23.01.20.png --> ../data/wisenet_dataset/train_dataset/train/ID5/Screen Shot 2021-11-03 at 23.01.20.png\n",
      "--- copy ../data/wisenet_dataset/dataset/ID5/Screen Shot 2021-11-03 at 23.02.02.png --> ../data/wisenet_dataset/train_dataset/train/ID5/Screen Shot 2021-11-03 at 23.02.02.png\n",
      "--- copy ../data/wisenet_dataset/dataset/ID5/Screen Shot 2021-11-03 at 22.59.57.png --> ../data/wisenet_dataset/train_dataset/train/ID5/Screen Shot 2021-11-03 at 22.59.57.png\n",
      "--- copy ../data/wisenet_dataset/dataset/ID5/Screen Shot 2021-11-03 at 22.39.22.png --> ../data/wisenet_dataset/train_dataset/train/ID5/Screen Shot 2021-11-03 at 22.39.22.png\n",
      "ID4\n",
      "root: ../data/wisenet_dataset/dataset/ID4/\n",
      "--- copy ../data/wisenet_dataset/dataset/ID4/Screen Shot 2021-11-03 at 21.16.56.png --> ../data/wisenet_dataset/train_dataset/test/ID4/Screen Shot 2021-11-03 at 21.16.56.png\n",
      "--- copy ../data/wisenet_dataset/dataset/ID4/Screen Shot 2021-11-03 at 21.23.15.png --> ../data/wisenet_dataset/train_dataset/test/ID4/Screen Shot 2021-11-03 at 21.23.15.png\n",
      "--- copy ../data/wisenet_dataset/dataset/ID4/Screen Shot 2021-11-03 at 21.21.28.png --> ../data/wisenet_dataset/train_dataset/test/ID4/Screen Shot 2021-11-03 at 21.21.28.png\n",
      "--- copy ../data/wisenet_dataset/dataset/ID4/Screen Shot 2021-11-03 at 21.17.36.png --> ../data/wisenet_dataset/train_dataset/train/ID4/Screen Shot 2021-11-03 at 21.17.36.png\n",
      "--- copy ../data/wisenet_dataset/dataset/ID4/Screen Shot 2021-11-03 at 21.14.19.png --> ../data/wisenet_dataset/train_dataset/train/ID4/Screen Shot 2021-11-03 at 21.14.19.png\n",
      "--- copy ../data/wisenet_dataset/dataset/ID4/Screen Shot 2021-11-03 at 21.21.09.png --> ../data/wisenet_dataset/train_dataset/train/ID4/Screen Shot 2021-11-03 at 21.21.09.png\n",
      "ID3\n",
      "root: ../data/wisenet_dataset/dataset/ID3/\n",
      "--- copy ../data/wisenet_dataset/dataset/ID3/Screen Shot 2021-11-03 at 21.22.00.png --> ../data/wisenet_dataset/train_dataset/test/ID3/Screen Shot 2021-11-03 at 21.22.00.png\n",
      "--- copy ../data/wisenet_dataset/dataset/ID3/Screen Shot 2021-11-03 at 23.03.14.png --> ../data/wisenet_dataset/train_dataset/test/ID3/Screen Shot 2021-11-03 at 23.03.14.png\n",
      "--- copy ../data/wisenet_dataset/dataset/ID3/Screen Shot 2021-11-03 at 23.01.51.png --> ../data/wisenet_dataset/train_dataset/test/ID3/Screen Shot 2021-11-03 at 23.01.51.png\n",
      "--- copy ../data/wisenet_dataset/dataset/ID3/Screen Shot 2021-11-03 at 23.03.32.png --> ../data/wisenet_dataset/train_dataset/test/ID3/Screen Shot 2021-11-03 at 23.03.32.png\n",
      "--- copy ../data/wisenet_dataset/dataset/ID3/Screen Shot 2021-11-03 at 21.19.49.png --> ../data/wisenet_dataset/train_dataset/test/ID3/Screen Shot 2021-11-03 at 21.19.49.png\n",
      "--- copy ../data/wisenet_dataset/dataset/ID3/Screen Shot 2021-11-03 at 22.59.43.png --> ../data/wisenet_dataset/train_dataset/test/ID3/Screen Shot 2021-11-03 at 22.59.43.png\n",
      "--- copy ../data/wisenet_dataset/dataset/ID3/Screen Shot 2021-11-03 at 23.03.56.png --> ../data/wisenet_dataset/train_dataset/train/ID3/Screen Shot 2021-11-03 at 23.03.56.png\n",
      "--- copy ../data/wisenet_dataset/dataset/ID3/Screen Shot 2021-11-03 at 23.02.06.png --> ../data/wisenet_dataset/train_dataset/train/ID3/Screen Shot 2021-11-03 at 23.02.06.png\n",
      "--- copy ../data/wisenet_dataset/dataset/ID3/Screen Shot 2021-11-03 at 23.00.09.png --> ../data/wisenet_dataset/train_dataset/train/ID3/Screen Shot 2021-11-03 at 23.00.09.png\n",
      "--- copy ../data/wisenet_dataset/dataset/ID3/Screen Shot 2021-11-03 at 23.01.16.png --> ../data/wisenet_dataset/train_dataset/train/ID3/Screen Shot 2021-11-03 at 23.01.16.png\n",
      "--- copy ../data/wisenet_dataset/dataset/ID3/Screen Shot 2021-11-03 at 22.59.53.png --> ../data/wisenet_dataset/train_dataset/train/ID3/Screen Shot 2021-11-03 at 22.59.53.png\n",
      "--- copy ../data/wisenet_dataset/dataset/ID3/Screen Shot 2021-11-03 at 21.22.14.png --> ../data/wisenet_dataset/train_dataset/train/ID3/Screen Shot 2021-11-03 at 21.22.14.png\n"
     ]
    }
   ],
   "source": [
    "\n",
    "\n",
    "if not os.path.exists(train_dataset):\n",
    "    os.makedirs(train_dataset)\n",
    "\n",
    "ref = 1\n",
    "\n",
    "for root, dirs, files in os.walk(dataset):\n",
    "    if len(dirs) > 1:\n",
    "        for person in dirs:\n",
    "            print(person)\n",
    "            root = dataset + '/' + person + '/'\n",
    "            print('root: ' + root)\n",
    "\n",
    "            output_train_dir = train_dataset + '/train/' + person\n",
    "            if not os.path.exists(os.path.join(output_train_dir)):\n",
    "                os.makedirs(output_train_dir)\n",
    "\n",
    "            output_test_dir = train_dataset + '/test/' + person\n",
    "            if not os.path.exists(output_test_dir):\n",
    "                os.makedirs(output_test_dir)\n",
    "\n",
    "            files = os.listdir(root)\n",
    "            test = random.sample(files, int(len(files) * test_size))\n",
    "            train = list(set(files) - set(test))\n",
    "            for copy_test in test:\n",
    "                shutil.copy(os.path.join(root, copy_test),\n",
    "                            os.path.join(output_test_dir, copy_test))\n",
    "                print('--- copy ' + os.path.join(root, copy_test) + ' --> ' + os.path.join(output_test_dir, copy_test))\n",
    "\n",
    "            for copy_train in train:\n",
    "                shutil.copy(os.path.join(root, copy_train),\n",
    "                            os.path.join(output_train_dir, copy_train))\n",
    "                print(\n",
    "                    '--- copy ' + os.path.join(root, copy_train) + ' --> ' + os.path.join(output_train_dir, copy_train))"
   ],
   "metadata": {
    "collapsed": false,
    "pycharm": {
     "name": "#%%\n"
    }
   }
  },
  {
   "cell_type": "code",
   "execution_count": 29,
   "outputs": [
    {
     "name": "stdout",
     "output_type": "stream",
     "text": [
      "Number of classes: 3\n",
      "Number of images: 19\n",
      "Loading feature extraction model\n",
      "Model filename: ../models/20180402-114759.pb\n",
      "Calculating features for images\n",
      "Training classifier\n",
      "Saved classifier model to file \"../models/one_shot_classifier.pkl\"\n"
     ]
    }
   ],
   "source": [
    "from facenetLib.classifier import main\n",
    "from facenetLib.classifier import parse_arguments\n",
    "\n",
    "args = ['TRAIN',\n",
    "        '{}/train'.format(train_dataset),\n",
    "        '../models/20180402-114759.pb',\n",
    "        '../models/one_shot_classifier.pkl',\n",
    "        '--batch_size', \"100\"]\n",
    "main(parse_arguments(args))"
   ],
   "metadata": {
    "collapsed": false,
    "pycharm": {
     "name": "#%%\n"
    }
   }
  },
  {
   "cell_type": "code",
   "execution_count": 30,
   "outputs": [
    {
     "name": "stdout",
     "output_type": "stream",
     "text": [
      "Number of classes: 3\n",
      "Number of images: 19\n",
      "Loading feature extraction model\n",
      "Model filename: ../models/20180402-114759.pb\n",
      "Calculating features for images\n",
      "Testing classifier\n",
      "Loaded classifier model from file \"../models/one_shot_classifier.pkl\"\n",
      "   0  ID3: 0.836\n",
      "   1  ID3: 0.847\n",
      "   2  ID3: 0.824\n",
      "   3  ID3: 0.849\n",
      "   4  ID3: 0.846\n",
      "   5  ID3: 0.622\n",
      "   6  ID4: 0.866\n",
      "   7  ID4: 0.895\n",
      "   8  ID4: 0.923\n",
      "   9  ID5: 0.453\n",
      "  10  ID5: 0.891\n",
      "  11  ID5: 0.520\n",
      "  12  ID5: 0.798\n",
      "  13  ID5: 0.518\n",
      "  14  ID5: 0.773\n",
      "  15  ID3: 0.443\n",
      "  16  ID5: 0.882\n",
      "  17  ID5: 0.866\n",
      "  18  ID5: 0.769\n",
      "Accuracy: 0.947\n"
     ]
    }
   ],
   "source": [
    "from facenetLib.classifier import main\n",
    "from facenetLib.classifier import parse_arguments\n",
    "\n",
    "args = ['CLASSIFY',\n",
    "        '{}/test'.format(train_dataset),\n",
    "        '../models/20180402-114759.pb',\n",
    "        '../models/one_shot_classifier.pkl',\n",
    "        '--batch_size', \"100\"]\n",
    "main(parse_arguments(args))\n"
   ],
   "metadata": {
    "collapsed": false,
    "pycharm": {
     "name": "#%%pwd=$(pwd)\n"
    }
   }
  }
 ],
 "metadata": {
  "kernelspec": {
   "display_name": "Python 3",
   "language": "python",
   "name": "python3"
  },
  "language_info": {
   "codemirror_mode": {
    "name": "ipython",
    "version": 2
   },
   "file_extension": ".py",
   "mimetype": "text/x-python",
   "name": "python",
   "nbconvert_exporter": "python",
   "pygments_lexer": "ipython2",
   "version": "2.7.6"
  }
 },
 "nbformat": 4,
 "nbformat_minor": 0
}